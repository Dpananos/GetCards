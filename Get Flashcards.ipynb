{
 "cells": [
  {
   "cell_type": "markdown",
   "metadata": {
    "collapsed": true
   },
   "source": [
    "# Get Flashcards\n"
   ]
  },
  {
   "cell_type": "code",
   "execution_count": 3,
   "metadata": {},
   "outputs": [],
   "source": [
    "import tweepy \n",
    "import wget\n",
    "import os"
   ]
  },
  {
   "cell_type": "code",
   "execution_count": 4,
   "metadata": {
    "collapsed": true
   },
   "outputs": [],
   "source": [
    "auth = tweepy.OAuthHandler(consumer_key, consumer_secret) #Fill these in\n",
    "auth.set_access_token(access_token, access_token_secret)  #Fill these in"
   ]
  },
  {
   "cell_type": "code",
   "execution_count": 6,
   "metadata": {
    "collapsed": true
   },
   "outputs": [],
   "source": [
    "api = tweepy.API(auth)"
   ]
  },
  {
   "cell_type": "code",
   "execution_count": 7,
   "metadata": {
    "collapsed": true
   },
   "outputs": [],
   "source": [
    "#Get 200 of Chris' tweet\n",
    "tweets = api.user_timeline(screen_name = 'chrisalbon', \n",
    "                           count = 300, \n",
    "                           include_rts = False, \n",
    "                           excludereplies = True)\n",
    "\n",
    "#200 isn't enough.  Keep getting tweets until we can't get anymore\n"
   ]
  },
  {
   "cell_type": "code",
   "execution_count": 16,
   "metadata": {},
   "outputs": [
    {
     "data": {
      "text/plain": [
       "921642564976914432"
      ]
     },
     "execution_count": 16,
     "metadata": {},
     "output_type": "execute_result"
    }
   ],
   "source": [
    "last_id = tweets[-1].id\n",
    "last_id"
   ]
  },
  {
   "cell_type": "code",
   "execution_count": 71,
   "metadata": {},
   "outputs": [],
   "source": [
    "while (True):\n",
    "    more_tweets = api.user_timeline(screen_name='chrisalbon',\n",
    "                                    count=200,\n",
    "                                    include_rts=False,\n",
    "                                    exclude_replies=True,\n",
    "                                    max_id=last_id-1)\n",
    "\n",
    "    # There are no more tweets\n",
    "    if (len(more_tweets) == 0):\n",
    "        break\n",
    "    else:\n",
    "        last_id = more_tweets[-1].id-1\n",
    "        tweets = tweets + more_tweets\n",
    "        \n",
    "        \n",
    "#Filter by those containing #machinelearningflashcards \n",
    "def filter_card(s):\n",
    "    urls = s.entities.get('urls')\n",
    "    if urls:\n",
    "        return(urls[0].get('display_url') == 'machinelearningflashcards.com')\n",
    "    else:\n",
    "        return False\n",
    "card_tweets = [s for s in tweets if filter_card(s)]"
   ]
  },
  {
   "cell_type": "code",
   "execution_count": 68,
   "metadata": {},
   "outputs": [
    {
     "data": {
      "text/plain": [
       "'Notions Of Probability'"
      ]
     },
     "execution_count": 68,
     "metadata": {},
     "output_type": "execute_result"
    }
   ],
   "source": [
    "# s = card_tweets[0]\n",
    "# s.text.split(' http')[0]"
   ]
  },
  {
   "cell_type": "code",
   "execution_count": 75,
   "metadata": {},
   "outputs": [],
   "source": [
    "media_files = dict()\n",
    "for status in card_tweets:\n",
    "    title = status.text.split(' http')[0]\n",
    "    media = status.entities.get('media', [])\n",
    "    if(len(media) > 0 and media[0]['type']=='photo' ):  #if tweet has media and media is photo\n",
    "        media_files[title] = media[0]['media_url']  #get me the url"
   ]
  },
  {
   "cell_type": "code",
   "execution_count": 82,
   "metadata": {},
   "outputs": [],
   "source": [
    "os.makedirs('ml-cards', exist_ok=True) #make a directory to store the photos in\n",
    "\n",
    "for k, v in media_files.items():\n",
    "    wget.download(v, out = f'ml-cards/{k}.png') #get the photos!"
   ]
  },
  {
   "cell_type": "code",
   "execution_count": 83,
   "metadata": {},
   "outputs": [
    {
     "data": {
      "text/plain": [
       "142"
      ]
     },
     "execution_count": 83,
     "metadata": {},
     "output_type": "execute_result"
    }
   ],
   "source": [
    "len(media_files)"
   ]
  },
  {
   "cell_type": "code",
   "execution_count": null,
   "metadata": {
    "collapsed": true
   },
   "outputs": [],
   "source": []
  }
 ],
 "metadata": {
  "kernelspec": {
   "display_name": "Python 3",
   "language": "python",
   "name": "python3"
  },
  "language_info": {
   "codemirror_mode": {
    "name": "ipython",
    "version": 3
   },
   "file_extension": ".py",
   "mimetype": "text/x-python",
   "name": "python",
   "nbconvert_exporter": "python",
   "pygments_lexer": "ipython3",
   "version": "3.6.3"
  }
 },
 "nbformat": 4,
 "nbformat_minor": 2
}
